{
 "cells": [
  {
   "cell_type": "code",
   "execution_count": 7,
   "id": "70922a23",
   "metadata": {
    "ExecuteTime": {
     "end_time": "2022-05-10T03:00:55.817400Z",
     "start_time": "2022-05-10T03:00:55.798481Z"
    }
   },
   "outputs": [],
   "source": [
    "import numpy as np\n",
    "import os\n",
    "import pandas as pd\n",
    "# import modin.pandas as pd\n",
    "\n",
    "import matplotlib as mpl\n",
    "mpl.use('agg')\n",
    "import matplotlib.pyplot as plt\n",
    "mpl.rc('axes', labelsize=20)\n",
    "mpl.rc('xtick', labelsize=16)\n",
    "mpl.rc('ytick', labelsize=16)\n",
    "\n",
    "plt.rc('font',family='Times New Roman')\n",
    "resolution=300\n",
    "def save_fig(fig_id, tight_layout=True, fig_extension=\"png\", resolution=300):\n",
    "    path = os.path.join(fig_id + \"_boxplot.\" + fig_extension)\n",
    "    print(\"Saving figure\", fig_id)\n",
    "    if tight_layout:\n",
    "        plt.tight_layout()\n",
    "    plt.savefig(path, format = fig_extension, dpi = resolution)"
   ]
  },
  {
   "cell_type": "code",
   "execution_count": 2,
   "id": "19ea145f",
   "metadata": {
    "ExecuteTime": {
     "end_time": "2022-05-10T03:00:01.329658Z",
     "start_time": "2022-05-10T03:00:01.218980Z"
    }
   },
   "outputs": [
    {
     "name": "stdout",
     "output_type": "stream",
     "text": [
      "Wall time: 101 ms\n"
     ]
    }
   ],
   "source": [
    "df_all=pd.read_csv(r'box_plot_demo.csv')"
   ]
  },
  {
   "cell_type": "code",
   "execution_count": 4,
   "id": "a63f6f2f",
   "metadata": {
    "ExecuteTime": {
     "end_time": "2022-05-10T03:00:19.687033Z",
     "start_time": "2022-05-10T03:00:19.676063Z"
    }
   },
   "outputs": [],
   "source": [
    "color=['#E15ED0','#FEA762','#E15ED0','#FEA762','#FEA762','#E15ED0','#FEA762','#82BDD9','#82BDD9','#82BDD9','#E15ED0','#C0E0A1','#C0E0A1','#C0E0A1','#C0E0A1','#C0E0A1','#FEA762']\n",
    "color2=color[::-1]\n",
    "def box_plot(superfamily):\n",
    "    grouped=df_all[superfamily].groupby(df_all['EMPO3'])\n",
    "    labels=[]\n",
    "    boxes=[]\n",
    "    for i, j in grouped:\n",
    "        labels.append(i)\n",
    "        boxes.append(j)\n",
    "        \n",
    "    ig, ax = plt.subplots(figsize=(10, 12.5),clear=True) \n",
    "    bp=ax.boxplot(boxes, labels = labels,widths=0.5,vert=False,showmeans=True,sym='.',showfliers=False,\n",
    "               flierprops = {'marker':'.','color':'black','markersize': 3.0},boxprops = {'color':'black'},\n",
    "              medianprops = {'color':'red'},meanprops ={'color':'b','marker':'*','markersize': 6.0},patch_artist=True)\n",
    "    [bp['boxes'][i].set(facecolor=color2[i]) for i in range(17)]\n",
    "    ax.set_title(superfamily,fontsize=20)\n",
    "    save_fig(superfamily)\n",
    "    plt.close(ig)"
   ]
  },
  {
   "cell_type": "code",
   "execution_count": 10,
   "id": "80a9fb54",
   "metadata": {
    "ExecuteTime": {
     "end_time": "2022-05-10T03:01:45.018439Z",
     "start_time": "2022-05-10T03:01:45.009428Z"
    }
   },
   "outputs": [],
   "source": [
    "def desc(superfamily):\n",
    "    des_sup=df_all[superfamily].groupby(df_all['EMPO3']).describe()\n",
    "    des_sup['median']=df_all[superfamily].groupby(df_all['EMPO3']).median()\n",
    "    des_sup.to_csv(f'{superfamily}_description_97_.csv')\n",
    "#     return(des_sup)"
   ]
  },
  {
   "cell_type": "code",
   "execution_count": 8,
   "id": "9ff5f230",
   "metadata": {
    "ExecuteTime": {
     "end_time": "2022-05-10T03:01:11.842287Z",
     "start_time": "2022-05-10T03:01:10.735246Z"
    }
   },
   "outputs": [
    {
     "name": "stdout",
     "output_type": "stream",
     "text": [
      "Saving figure PRK00290\n"
     ]
    }
   ],
   "source": [
    "box_plot('PRK00290')# plot"
   ]
  },
  {
   "cell_type": "code",
   "execution_count": 11,
   "id": "29542662",
   "metadata": {
    "ExecuteTime": {
     "end_time": "2022-05-10T03:01:50.559482Z",
     "start_time": "2022-05-10T03:01:50.520615Z"
    }
   },
   "outputs": [],
   "source": [
    "desc('PRK00290')#get the description.csv "
   ]
  },
  {
   "cell_type": "code",
   "execution_count": null,
   "id": "8f89ae71",
   "metadata": {},
   "outputs": [],
   "source": []
  }
 ],
 "metadata": {
  "kernelspec": {
   "display_name": "Python 3",
   "language": "python",
   "name": "python3"
  },
  "language_info": {
   "codemirror_mode": {
    "name": "ipython",
    "version": 3
   },
   "file_extension": ".py",
   "mimetype": "text/x-python",
   "name": "python",
   "nbconvert_exporter": "python",
   "pygments_lexer": "ipython3",
   "version": "3.8.8"
  },
  "varInspector": {
   "cols": {
    "lenName": 16,
    "lenType": 16,
    "lenVar": 40
   },
   "kernels_config": {
    "python": {
     "delete_cmd_postfix": "",
     "delete_cmd_prefix": "del ",
     "library": "var_list.py",
     "varRefreshCmd": "print(var_dic_list())"
    },
    "r": {
     "delete_cmd_postfix": ") ",
     "delete_cmd_prefix": "rm(",
     "library": "var_list.r",
     "varRefreshCmd": "cat(var_dic_list()) "
    }
   },
   "types_to_exclude": [
    "module",
    "function",
    "builtin_function_or_method",
    "instance",
    "_Feature"
   ],
   "window_display": false
  }
 },
 "nbformat": 4,
 "nbformat_minor": 5
}
