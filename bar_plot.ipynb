{
 "cells": [
  {
   "cell_type": "code",
   "execution_count": 1,
   "id": "fe3d8e94",
   "metadata": {
    "ExecuteTime": {
     "end_time": "2022-05-10T02:56:24.728322Z",
     "start_time": "2022-05-10T02:56:23.452289Z"
    }
   },
   "outputs": [],
   "source": [
    "import numpy as np\n",
    "import os\n",
    "import pandas as pd\n",
    "# import modin.pandas as pd\n",
    "\n",
    "import matplotlib as mpl\n",
    "mpl.use('agg')\n",
    "import matplotlib.pyplot as plt\n",
    "mpl.rc('axes', labelsize=20)\n",
    "mpl.rc('xtick', labelsize=16)\n",
    "mpl.rc('ytick', labelsize=16)\n",
    "\n",
    "plt.rc('font',family='Times New Roman')\n",
    "resolution=300\n",
    "def save_fig(fig_id, tight_layout=True, fig_extension=\"png\", resolution=300):\n",
    "    path = os.path.join(fig_id + \"_barplot.\" + fig_extension)\n",
    "    print(\"Saving figure\", fig_id)\n",
    "    if tight_layout:\n",
    "        plt.tight_layout()\n",
    "    plt.savefig(path, format = fig_extension, dpi = resolution)"
   ]
  },
  {
   "cell_type": "code",
   "execution_count": 2,
   "id": "a70f6bc4",
   "metadata": {
    "ExecuteTime": {
     "end_time": "2022-05-10T02:56:24.835037Z",
     "start_time": "2022-05-10T02:56:24.768214Z"
    },
    "collapsed": true
   },
   "outputs": [
    {
     "data": {
      "text/html": [
       "<div>\n",
       "<style scoped>\n",
       "    .dataframe tbody tr th:only-of-type {\n",
       "        vertical-align: middle;\n",
       "    }\n",
       "\n",
       "    .dataframe tbody tr th {\n",
       "        vertical-align: top;\n",
       "    }\n",
       "\n",
       "    .dataframe thead th {\n",
       "        text-align: right;\n",
       "    }\n",
       "</style>\n",
       "<table border=\"1\" class=\"dataframe\">\n",
       "  <thead>\n",
       "    <tr style=\"text-align: right;\">\n",
       "      <th></th>\n",
       "      <th>Unnamed: 0</th>\n",
       "      <th>PRK00290</th>\n",
       "    </tr>\n",
       "  </thead>\n",
       "  <tbody>\n",
       "    <tr>\n",
       "      <th>0</th>\n",
       "      <td>Aerosol (non-saline)</td>\n",
       "      <td>1.0</td>\n",
       "    </tr>\n",
       "    <tr>\n",
       "      <th>1</th>\n",
       "      <td>Animal corpus</td>\n",
       "      <td>1.0</td>\n",
       "    </tr>\n",
       "    <tr>\n",
       "      <th>2</th>\n",
       "      <td>Animal distal gut</td>\n",
       "      <td>1.0</td>\n",
       "    </tr>\n",
       "    <tr>\n",
       "      <th>3</th>\n",
       "      <td>Animal proximal gut</td>\n",
       "      <td>1.0</td>\n",
       "    </tr>\n",
       "    <tr>\n",
       "      <th>4</th>\n",
       "      <td>Animal secretion</td>\n",
       "      <td>1.0</td>\n",
       "    </tr>\n",
       "    <tr>\n",
       "      <th>5</th>\n",
       "      <td>Animal surface</td>\n",
       "      <td>1.0</td>\n",
       "    </tr>\n",
       "    <tr>\n",
       "      <th>6</th>\n",
       "      <td>Hypersaline (saline)</td>\n",
       "      <td>1.0</td>\n",
       "    </tr>\n",
       "    <tr>\n",
       "      <th>7</th>\n",
       "      <td>Plant corpus</td>\n",
       "      <td>1.0</td>\n",
       "    </tr>\n",
       "    <tr>\n",
       "      <th>8</th>\n",
       "      <td>Plant rhizosphere</td>\n",
       "      <td>1.0</td>\n",
       "    </tr>\n",
       "    <tr>\n",
       "      <th>9</th>\n",
       "      <td>Plant surface</td>\n",
       "      <td>1.0</td>\n",
       "    </tr>\n",
       "    <tr>\n",
       "      <th>10</th>\n",
       "      <td>Sediment (non-saline)</td>\n",
       "      <td>1.0</td>\n",
       "    </tr>\n",
       "    <tr>\n",
       "      <th>11</th>\n",
       "      <td>Sediment (saline)</td>\n",
       "      <td>1.0</td>\n",
       "    </tr>\n",
       "    <tr>\n",
       "      <th>12</th>\n",
       "      <td>Soil (non-saline)</td>\n",
       "      <td>1.0</td>\n",
       "    </tr>\n",
       "    <tr>\n",
       "      <th>13</th>\n",
       "      <td>Surface (non-saline)</td>\n",
       "      <td>1.0</td>\n",
       "    </tr>\n",
       "    <tr>\n",
       "      <th>14</th>\n",
       "      <td>Surface (saline)</td>\n",
       "      <td>1.0</td>\n",
       "    </tr>\n",
       "    <tr>\n",
       "      <th>15</th>\n",
       "      <td>Water (non-saline)</td>\n",
       "      <td>1.0</td>\n",
       "    </tr>\n",
       "    <tr>\n",
       "      <th>16</th>\n",
       "      <td>Water (saline)</td>\n",
       "      <td>1.0</td>\n",
       "    </tr>\n",
       "  </tbody>\n",
       "</table>\n",
       "</div>"
      ],
      "text/plain": [
       "               Unnamed: 0  PRK00290\n",
       "0    Aerosol (non-saline)       1.0\n",
       "1           Animal corpus       1.0\n",
       "2       Animal distal gut       1.0\n",
       "3     Animal proximal gut       1.0\n",
       "4        Animal secretion       1.0\n",
       "5          Animal surface       1.0\n",
       "6    Hypersaline (saline)       1.0\n",
       "7            Plant corpus       1.0\n",
       "8       Plant rhizosphere       1.0\n",
       "9           Plant surface       1.0\n",
       "10  Sediment (non-saline)       1.0\n",
       "11      Sediment (saline)       1.0\n",
       "12      Soil (non-saline)       1.0\n",
       "13   Surface (non-saline)       1.0\n",
       "14       Surface (saline)       1.0\n",
       "15     Water (non-saline)       1.0\n",
       "16         Water (saline)       1.0"
      ]
     },
     "execution_count": 2,
     "metadata": {},
     "output_type": "execute_result"
    }
   ],
   "source": [
    "df_all=pd.read_csv(r'bar_plot_demo.csv')\n",
    "df_all"
   ]
  },
  {
   "cell_type": "code",
   "execution_count": 7,
   "id": "e3ca3d01",
   "metadata": {
    "ExecuteTime": {
     "end_time": "2022-05-10T02:58:11.203105Z",
     "start_time": "2022-05-10T02:58:11.182147Z"
    },
    "collapsed": true
   },
   "outputs": [
    {
     "data": {
      "text/html": [
       "<div>\n",
       "<style scoped>\n",
       "    .dataframe tbody tr th:only-of-type {\n",
       "        vertical-align: middle;\n",
       "    }\n",
       "\n",
       "    .dataframe tbody tr th {\n",
       "        vertical-align: top;\n",
       "    }\n",
       "\n",
       "    .dataframe thead th {\n",
       "        text-align: right;\n",
       "    }\n",
       "</style>\n",
       "<table border=\"1\" class=\"dataframe\">\n",
       "  <thead>\n",
       "    <tr style=\"text-align: right;\">\n",
       "      <th></th>\n",
       "      <th>PRK00290</th>\n",
       "    </tr>\n",
       "    <tr>\n",
       "      <th>Unnamed: 0</th>\n",
       "      <th></th>\n",
       "    </tr>\n",
       "  </thead>\n",
       "  <tbody>\n",
       "    <tr>\n",
       "      <th>Aerosol (non-saline)</th>\n",
       "      <td>1.0</td>\n",
       "    </tr>\n",
       "    <tr>\n",
       "      <th>Animal corpus</th>\n",
       "      <td>1.0</td>\n",
       "    </tr>\n",
       "    <tr>\n",
       "      <th>Animal distal gut</th>\n",
       "      <td>1.0</td>\n",
       "    </tr>\n",
       "    <tr>\n",
       "      <th>Animal proximal gut</th>\n",
       "      <td>1.0</td>\n",
       "    </tr>\n",
       "    <tr>\n",
       "      <th>Animal secretion</th>\n",
       "      <td>1.0</td>\n",
       "    </tr>\n",
       "    <tr>\n",
       "      <th>Animal surface</th>\n",
       "      <td>1.0</td>\n",
       "    </tr>\n",
       "    <tr>\n",
       "      <th>Hypersaline (saline)</th>\n",
       "      <td>1.0</td>\n",
       "    </tr>\n",
       "    <tr>\n",
       "      <th>Plant corpus</th>\n",
       "      <td>1.0</td>\n",
       "    </tr>\n",
       "    <tr>\n",
       "      <th>Plant rhizosphere</th>\n",
       "      <td>1.0</td>\n",
       "    </tr>\n",
       "    <tr>\n",
       "      <th>Plant surface</th>\n",
       "      <td>1.0</td>\n",
       "    </tr>\n",
       "    <tr>\n",
       "      <th>Sediment (non-saline)</th>\n",
       "      <td>1.0</td>\n",
       "    </tr>\n",
       "    <tr>\n",
       "      <th>Sediment (saline)</th>\n",
       "      <td>1.0</td>\n",
       "    </tr>\n",
       "    <tr>\n",
       "      <th>Soil (non-saline)</th>\n",
       "      <td>1.0</td>\n",
       "    </tr>\n",
       "    <tr>\n",
       "      <th>Surface (non-saline)</th>\n",
       "      <td>1.0</td>\n",
       "    </tr>\n",
       "    <tr>\n",
       "      <th>Surface (saline)</th>\n",
       "      <td>1.0</td>\n",
       "    </tr>\n",
       "    <tr>\n",
       "      <th>Water (non-saline)</th>\n",
       "      <td>1.0</td>\n",
       "    </tr>\n",
       "    <tr>\n",
       "      <th>Water (saline)</th>\n",
       "      <td>1.0</td>\n",
       "    </tr>\n",
       "  </tbody>\n",
       "</table>\n",
       "</div>"
      ],
      "text/plain": [
       "                       PRK00290\n",
       "Unnamed: 0                     \n",
       "Aerosol (non-saline)        1.0\n",
       "Animal corpus               1.0\n",
       "Animal distal gut           1.0\n",
       "Animal proximal gut         1.0\n",
       "Animal secretion            1.0\n",
       "Animal surface              1.0\n",
       "Hypersaline (saline)        1.0\n",
       "Plant corpus                1.0\n",
       "Plant rhizosphere           1.0\n",
       "Plant surface               1.0\n",
       "Sediment (non-saline)       1.0\n",
       "Sediment (saline)           1.0\n",
       "Soil (non-saline)           1.0\n",
       "Surface (non-saline)        1.0\n",
       "Surface (saline)            1.0\n",
       "Water (non-saline)          1.0\n",
       "Water (saline)              1.0"
      ]
     },
     "execution_count": 7,
     "metadata": {},
     "output_type": "execute_result"
    }
   ],
   "source": [
    "df_all2=df_all.set_index('Unnamed: 0').iloc[:,:17]\n",
    "df_all2"
   ]
  },
  {
   "cell_type": "code",
   "execution_count": 8,
   "id": "5896f051",
   "metadata": {
    "ExecuteTime": {
     "end_time": "2022-05-10T02:58:16.590050Z",
     "start_time": "2022-05-10T02:58:16.580069Z"
    }
   },
   "outputs": [],
   "source": [
    "df_all2=df_all2*100"
   ]
  },
  {
   "cell_type": "code",
   "execution_count": 9,
   "id": "caa807e0",
   "metadata": {
    "ExecuteTime": {
     "end_time": "2022-05-10T02:58:17.343076Z",
     "start_time": "2022-05-10T02:58:17.333072Z"
    }
   },
   "outputs": [],
   "source": [
    "color=['#E15ED0','#FEA762','#E15ED0','#FEA762','#FEA762','#E15ED0','#FEA762','#82BDD9','#82BDD9','#82BDD9','#E15ED0','#C0E0A1','#C0E0A1','#C0E0A1','#C0E0A1','#C0E0A1','#FEA762']\n",
    "color2=color[::-1]\n",
    "def bar_plot(superfamily):\n",
    "\n",
    "        \n",
    "    ig, ax = plt.subplots(figsize=(10, 12.5),clear=True)\n",
    "    ax.set_xlim([0, 110])\n",
    "    ax.set_ylim([0, 18])\n",
    "    ax.set_xlabel('Occurence (%)')\n",
    "    xticks=list(range(1,18))\n",
    "    labels=df_all2.index.tolist()\n",
    "    speeds=df_all2[superfamily].to_numpy()\n",
    "    bars = ax.barh(xticks,speeds,height=0.6,color=color2,edgecolor='black',lw=1) \n",
    "    ax.set_yticks(range(1,len(labels)+1))\n",
    "    ax.set_yticklabels(labels)\n",
    "    ax.set_title(superfamily,fontsize=20)\n",
    "    save_fig(superfamily)\n",
    "    plt.close(ig)"
   ]
  },
  {
   "cell_type": "code",
   "execution_count": 10,
   "id": "83322828",
   "metadata": {
    "ExecuteTime": {
     "end_time": "2022-05-10T02:58:19.168255Z",
     "start_time": "2022-05-10T02:58:18.272332Z"
    }
   },
   "outputs": [
    {
     "name": "stdout",
     "output_type": "stream",
     "text": [
      "Saving figure PRK00290\n"
     ]
    }
   ],
   "source": [
    "bar_plot('PRK00290')"
   ]
  },
  {
   "cell_type": "code",
   "execution_count": null,
   "id": "add33dcd",
   "metadata": {},
   "outputs": [],
   "source": []
  }
 ],
 "metadata": {
  "kernelspec": {
   "display_name": "Python 3",
   "language": "python",
   "name": "python3"
  },
  "language_info": {
   "codemirror_mode": {
    "name": "ipython",
    "version": 3
   },
   "file_extension": ".py",
   "mimetype": "text/x-python",
   "name": "python",
   "nbconvert_exporter": "python",
   "pygments_lexer": "ipython3",
   "version": "3.8.8"
  },
  "varInspector": {
   "cols": {
    "lenName": 16,
    "lenType": 16,
    "lenVar": 40
   },
   "kernels_config": {
    "python": {
     "delete_cmd_postfix": "",
     "delete_cmd_prefix": "del ",
     "library": "var_list.py",
     "varRefreshCmd": "print(var_dic_list())"
    },
    "r": {
     "delete_cmd_postfix": ") ",
     "delete_cmd_prefix": "rm(",
     "library": "var_list.r",
     "varRefreshCmd": "cat(var_dic_list()) "
    }
   },
   "types_to_exclude": [
    "module",
    "function",
    "builtin_function_or_method",
    "instance",
    "_Feature"
   ],
   "window_display": false
  }
 },
 "nbformat": 4,
 "nbformat_minor": 5
}
